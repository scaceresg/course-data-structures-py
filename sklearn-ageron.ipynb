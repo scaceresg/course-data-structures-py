{
 "cells": [
  {
   "cell_type": "markdown",
   "metadata": {},
   "source": [
    "## Hands-On ML with Scikit-Learn"
   ]
  },
  {
   "cell_type": "markdown",
   "metadata": {},
   "source": [
    "### Chapter 2. End-to-End Machine Learning Project\n",
    "\n",
    "1. Look at the big picture\n",
    "\n",
    "2. Get the data\n",
    "\n",
    "3. Explore and visualize the data to gain insights\n",
    "\n",
    "4. Prepare the data for ML algorithms\n",
    "\n",
    "5. Select a model and train it\n",
    "\n",
    "6. Fine-tune your model\n",
    "\n",
    "7. Present your solution\n",
    "\n",
    "8. Launch, monitor and maintain your system\n",
    "\n",
    "\n",
    "**Working with real data**:\n",
    "\n",
    "* [OpenML.org](https://openml.org/)\n",
    "\n",
    "* [Kaggle](https://www.kaggle.com/datasets)\n",
    "\n",
    "* [PapersWithCode.com](https://paperswithcode.com/datasets)\n",
    "\n",
    "* [UC Irvine ML repo](https://archive.ics.uci.edu/)\n",
    "\n",
    "* [Amazon AWS datasets](https://registry.opendata.aws/)\n",
    "\n",
    "* [TensorFlow datasets](https://www.tensorflow.org/datasets)\n",
    "\n",
    "* [DataPortals (Meta-portal)](https://dataportals.org/)\n",
    "\n",
    "* [Open Data Monitor (Meta-portal)](https://opendatamonitor.eu/frontend/web/index.php?r=dashboard%2Findex)"
   ]
  },
  {
   "cell_type": "markdown",
   "metadata": {},
   "source": [
    "#### The Project: Housing Prices in California\n",
    "\n",
    "##### 1. Look at the big picture\n",
    "\n",
    "Use California census data to **build a model of housing prices in the state**. \n",
    "\n",
    "This data includes metrics such as the population, median income, and median housing price for each *block group* ('district') in California.\n",
    "\n",
    "Your model **should learn from this data and be able to predict the median housing price** in any district, given all the other metrics."
   ]
  },
  {
   "cell_type": "markdown",
   "metadata": {},
   "source": [
    "**Frame the Problem**\n",
    "\n",
    "* *Know the objective*:\n",
    "\n",
    "The first question you and your customer should ask is: *How does the company expect to use and benefit from this model?*\n",
    "\n",
    "This will help you frame the problem, select algorithms and performance measures and how much effort you will spend teaking it.\n",
    "\n",
    "Your customer answers that your model's output (a prediction of a district's median housing price) will be fed to another ML system (see Figure 2-2). This downstream system will determin whether it is worth investing in a given area.\n",
    "\n",
    "![](https://abhijitramesh.me/static/images/part2-learning-hands-on-machine-learning-with-scikit-learn-keras-and-tensorflow/Screenshot_2021-03-05_at_1.17.49_PM.png)\n",
    "\n",
    "* *Know the current situation*:\n",
    "\n",
    "The next question is: *What does the current situation look like?*\n",
    "\n",
    "This will give you a reference for performance, as well as insights on how to solve the problem.\n",
    "\n",
    "Your customer answers that the district housing prices are currently estimated manually by experts: a team gathers up-to-date information about a district and they estimate it using complex rules.\n",
    "\n",
    "* *Design your solution*\n",
    "\n",
    "Finally, ask: *What kind of training supervision the model will need? Is it a classification, regression or reinforcement learning task? Should I use batch learning or online learning techniques?...*\n",
    "\n",
    "The solution required in this case is a typical **regression task**, since the model is asked to predict a value:\n",
    "\n",
    "* Multiple regression: multiple features are required to make a prediction\n",
    "\n",
    "* Univariate regression: model only predicts a single value for each district\n",
    "\n",
    "* Plain batch learning: there is no continuous flow of data coming into the system and no particular need to adjust to changing data rapidly. Data set is also small enough to fit in memory."
   ]
  },
  {
   "cell_type": "markdown",
   "metadata": {},
   "source": [
    "##### Pipelines\n",
    "\n",
    "A *Pipeline* is a sequence of data processing components. Pipelines are very common in ML systems, since there is a lot of data to manipulate and many data transformations to apply.\n",
    "\n",
    "Components typically run asynchronously.\n",
    "\n",
    "* Each component pulls in a large amount of data, processes it and spits out the result in another data store.\n",
    "\n",
    "* Then, some time later, the next component in the pipeline pulls in this data and spits out its own output.\n",
    "\n",
    "* Each component is fairly self-contained: the interface between components is simply the data store."
   ]
  },
  {
   "cell_type": "markdown",
   "metadata": {},
   "source": [
    "**Select Performance Measures**:\n",
    "\n"
   ]
  },
  {
   "cell_type": "code",
   "execution_count": null,
   "metadata": {},
   "outputs": [],
   "source": [
    "#"
   ]
  }
 ],
 "metadata": {
  "language_info": {
   "name": "python"
  }
 },
 "nbformat": 4,
 "nbformat_minor": 2
}
