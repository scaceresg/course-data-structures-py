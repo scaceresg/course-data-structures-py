{
 "cells": [
  {
   "cell_type": "markdown",
   "metadata": {},
   "source": [
    "## Data Structures & Searching Algorithms from `geeksforgeeks.org`\n",
    "\n",
    "Check webpages:\n",
    "\n",
    "* Data Structures: https://www.geeksforgeeks.org/python-data-structures/\n",
    "\n",
    "* Searching Algorithms: https://www.geeksforgeeks.org/searching-algorithms/?ref=lbp"
   ]
  },
  {
   "cell_type": "markdown",
   "metadata": {},
   "source": [
    "### Some DS in Python\n",
    "\n",
    "* Lists `list()`: \n",
    "\n",
    "Just like arrays, lists are an ordered collection of data. **Inserting** or **deleting** an element from the beginning/at the end of a list is a *costly operation* as all the elements need to be shifted.\n",
    "\n",
    "* Dictionary `dict()`:\n",
    "\n",
    "Dictionaries are like *hash* tables with the time complexity of $O(1)$. It is an unordered collection of data values, used to store data values like a map. Dictionaries hold they key:value pair.\n",
    "\n",
    "* Tuple `tuple()`:\n",
    "\n",
    "Tuples are collections of Python objects much like lists but *immutable* in nature, i.e., the elements cannot be added or removed once created.\n",
    "\n",
    "* Sets `set()`:\n",
    "\n",
    "Sets are unordered collections of data that are mutable and do not allow any duplicate element. Sets are basically used to *include membership testing and eliminating duplicate entries*. The data structure used in this is *Hashing*, a popular technique to perform insertion, deletion and traversal in $O(1)$ on average.\n",
    "\n",
    "* Frozen Sets `frozenset()`:\n",
    "\n",
    "Frozen sets are immutable objects that only support methods and operators that produce a result without affecting the frozen set or sets to which they are applied. \n",
    "\n",
    "* String `str()`:\n",
    "\n",
    "Strings are arrays of bytes representing Unicode characters. A string is an immutable array of characters. Python does not have a character data type, a single character is simply a string with a length of 1.\n",
    "\n",
    "**Note**: As strings are immutable, modifying a string will result in creating a new copy."
   ]
  },
  {
   "cell_type": "markdown",
   "metadata": {},
   "source": [
    "### DS in the `collections` module\n",
    "\n",
    "* Counters `Counter()`:\n",
    "\n",
    "A Counter is a sub-class of the dictionary. It is used to keep the count of the elements in an iterable in the form of an unordered dictionary where the key represents the element in the iterable and the value represents the count of that element in the iterable."
   ]
  },
  {
   "cell_type": "code",
   "execution_count": 2,
   "metadata": {},
   "outputs": [
    {
     "name": "stdout",
     "output_type": "stream",
     "text": [
      "Counter({'B': 5, 'A': 3, 'C': 2})\n",
      "Counter({'B': 5, 'A': 3, 'C': 2})\n",
      "Counter({'B': 5, 'A': 4, 'C': 2, 1: 1})\n"
     ]
    }
   ],
   "source": [
    "from collections import Counter\n",
    "\n",
    "# With sequence of items\n",
    "print(Counter(['B', 'B', 'A', 'B', 'C', 'A', 'B', 'B', 'A', 'C']))\n",
    "\n",
    "# With dictionary\n",
    "count = Counter({'B': 5, 'A': 3, 'C': 2})\n",
    "print(count)\n",
    "\n",
    "# Update sequence\n",
    "count.update(['A', 1])\n",
    "print(count)\n"
   ]
  },
  {
   "cell_type": "markdown",
   "metadata": {},
   "source": [
    "* OrderedDict `OrderedDict()`:\n",
    "\n",
    "An OrderedDict is also a sub-class of dictionary but unlike a dictionary, it remembers the order in which the keys were inserted.\n",
    "\n",
    "* DefaultDict `defaultdict()`:\n",
    "\n",
    "DefaultDict is used to provide some default values for the key that does not exist and never raises a `KeyError`. Its objects can be initialized using `defaultdict()` method by passing the data type as an argument.\n",
    "\n",
    "* ChainMap `ChainMap()`:\n",
    "\n",
    "A ChainMap encapsulates many dictionaries into a single unit and returns a list of dictionaries. When a key is needed to be found, then all the dictionaries are searched one by one until the key is found."
   ]
  },
  {
   "cell_type": "code",
   "execution_count": 3,
   "metadata": {},
   "outputs": [
    {
     "name": "stdout",
     "output_type": "stream",
     "text": [
      "ChainMap({'a': 1, 'b': 2}, {'c': 3, 'd': 4}, {'d': 5, 'f': 6})\n",
      "1\n",
      "4\n"
     ]
    },
    {
     "ename": "KeyError",
     "evalue": "'g'",
     "output_type": "error",
     "traceback": [
      "\u001b[1;31m---------------------------------------------------------------------------\u001b[0m",
      "\u001b[1;31mKeyError\u001b[0m                                  Traceback (most recent call last)",
      "Cell \u001b[1;32mIn[3], line 12\u001b[0m\n\u001b[0;32m     10\u001b[0m \u001b[38;5;28mprint\u001b[39m(c[\u001b[38;5;124m'\u001b[39m\u001b[38;5;124ma\u001b[39m\u001b[38;5;124m'\u001b[39m])\n\u001b[0;32m     11\u001b[0m \u001b[38;5;28mprint\u001b[39m(c[\u001b[38;5;124m'\u001b[39m\u001b[38;5;124md\u001b[39m\u001b[38;5;124m'\u001b[39m])\n\u001b[1;32m---> 12\u001b[0m \u001b[38;5;28mprint\u001b[39m(\u001b[43mc\u001b[49m\u001b[43m[\u001b[49m\u001b[38;5;124;43m'\u001b[39;49m\u001b[38;5;124;43mg\u001b[39;49m\u001b[38;5;124;43m'\u001b[39;49m\u001b[43m]\u001b[49m)\n",
      "File \u001b[1;32mc:\\Users\\sebastiancg\\AppData\\Local\\Programs\\Python\\Python310\\lib\\collections\\__init__.py:982\u001b[0m, in \u001b[0;36mChainMap.__getitem__\u001b[1;34m(self, key)\u001b[0m\n\u001b[0;32m    980\u001b[0m     \u001b[38;5;28;01mexcept\u001b[39;00m \u001b[38;5;167;01mKeyError\u001b[39;00m:\n\u001b[0;32m    981\u001b[0m         \u001b[38;5;28;01mpass\u001b[39;00m\n\u001b[1;32m--> 982\u001b[0m \u001b[38;5;28;01mreturn\u001b[39;00m \u001b[38;5;28;43mself\u001b[39;49m\u001b[38;5;241;43m.\u001b[39;49m\u001b[38;5;21;43m__missing__\u001b[39;49m\u001b[43m(\u001b[49m\u001b[43mkey\u001b[49m\u001b[43m)\u001b[49m\n",
      "File \u001b[1;32mc:\\Users\\sebastiancg\\AppData\\Local\\Programs\\Python\\Python310\\lib\\collections\\__init__.py:974\u001b[0m, in \u001b[0;36mChainMap.__missing__\u001b[1;34m(self, key)\u001b[0m\n\u001b[0;32m    973\u001b[0m \u001b[38;5;28;01mdef\u001b[39;00m \u001b[38;5;21m__missing__\u001b[39m(\u001b[38;5;28mself\u001b[39m, key):\n\u001b[1;32m--> 974\u001b[0m     \u001b[38;5;28;01mraise\u001b[39;00m \u001b[38;5;167;01mKeyError\u001b[39;00m(key)\n",
      "\u001b[1;31mKeyError\u001b[0m: 'g'"
     ]
    }
   ],
   "source": [
    "from collections import ChainMap\n",
    "\n",
    "d1 = {'a': 1, 'b': 2}\n",
    "d2 = {'c': 3, 'd': 4}\n",
    "d3 = {'d': 5, 'f': 6}\n",
    "\n",
    "c = ChainMap(d1, d2, d3)\n",
    "print(c)\n",
    "\n",
    "print(c['a'])\n",
    "print(c['d'])\n",
    "print(c['g'])"
   ]
  },
  {
   "cell_type": "markdown",
   "metadata": {},
   "source": [
    "* NamedTuple `namedtuple()`:\n",
    "\n",
    "A NamedTuple returns a tuple object with names for each position which the ordinary tuples lack. "
   ]
  },
  {
   "cell_type": "code",
   "execution_count": 5,
   "metadata": {},
   "outputs": [
    {
     "name": "stdout",
     "output_type": "stream",
     "text": [
      "Age: 19\n",
      "Name: Michael\n"
     ]
    }
   ],
   "source": [
    "from collections import namedtuple\n",
    "\n",
    "Student = namedtuple('Student', ['name', 'age', 'DOB'])\n",
    "\n",
    "st1 = Student('Michael', '19', '2541997')\n",
    "\n",
    "print('Age:', st1[1])\n",
    "print('Name:', st1.name)"
   ]
  },
  {
   "cell_type": "markdown",
   "metadata": {},
   "source": [
    "* Deque `deque()`:\n",
    "\n",
    "Deque (Doubly Ended Queue) is the optimised list for quicker append and pop operations from both sides of the container. It provides $O(1)$ time complexity for append and pop operations as compared to the list with $O(n)$ time complexity.\n",
    "\n",
    "Python Deque is implemented using doubly linked lists, therefore **the performance for randomly accessing the elements is** $O(n)$"
   ]
  },
  {
   "cell_type": "code",
   "execution_count": 8,
   "metadata": {},
   "outputs": [
    {
     "name": "stdout",
     "output_type": "stream",
     "text": [
      "Deque after appending 4: deque([1, 2, 3, 4])\n",
      "Deque after appending 6 to the left: deque([6, 1, 2, 3, 4])\n",
      "Deque after popping: deque([6, 1, 2, 3])\n",
      "Deque after popping to the left: deque([1, 2, 3])\n"
     ]
    }
   ],
   "source": [
    "from collections import deque\n",
    "\n",
    "de = deque([1, 2, 3])\n",
    "\n",
    "de.append(4)\n",
    "\n",
    "print('Deque after appending 4:', de)\n",
    "\n",
    "de.appendleft(6)\n",
    "\n",
    "print('Deque after appending 6 to the left:', de)\n",
    "\n",
    "de.pop()\n",
    "\n",
    "print('Deque after popping:', de)\n",
    "\n",
    "de.popleft()\n",
    "\n",
    "print('Deque after popping to the left:', de)"
   ]
  },
  {
   "cell_type": "markdown",
   "metadata": {},
   "source": [
    "* UserDict `UserDict` (Use inside a class):\n",
    "\n",
    "UserDict is a dictionary-like container that acts as a wrapper around the dictionary objects. This container is used when someone wants to create their own dictionary with some modified or new functionality. **UserList** `UserList` and **UserString** `UserString` are used similarly for lists and strings, respectively."
   ]
  },
  {
   "cell_type": "markdown",
   "metadata": {},
   "source": [
    "### Advanced DS\n",
    "\n",
    "* **Linked List**: \n",
    "\n",
    "Linear data structure in which the elements are not stored at contiguous memory locations. The elements in a linked list are linked using pointers as shown in the below image:\n",
    "\n",
    "![](https://media.geeksforgeeks.org/wp-content/cdn-uploads/gq/2013/03/Linkedlist.png)\n",
    "\n",
    "A linked list is represented by a pointer to the first node of the linked list (*head*). If the linked list is empty, then the value of the head is `NULL`. Each node in a list consists of at least two parts:\n",
    "\n",
    "- Data\n",
    "\n",
    "- Pointer (or reference) to the next node\n",
    "\n",
    "Here's an example to define a Linked List in Python:"
   ]
  },
  {
   "cell_type": "code",
   "execution_count": 14,
   "metadata": {},
   "outputs": [],
   "source": [
    "# Node class (Pointer/Reference)\n",
    "class Node:\n",
    "\n",
    "    # Initialise\n",
    "    def __init__(self, data):\n",
    "        self.data = data\n",
    "        self.next = None # next as Null"
   ]
  },
  {
   "cell_type": "code",
   "execution_count": 15,
   "metadata": {},
   "outputs": [],
   "source": [
    "# Linked list class\n",
    "class LinkedList:\n",
    "\n",
    "    # Initialise head\n",
    "    def __init__(self):\n",
    "        self.head = None\n",
    "\n",
    "    # Print contents (starting with head)\n",
    "    def print_list(self):\n",
    "\n",
    "        temp = self.head\n",
    "\n",
    "        while temp:\n",
    "            print(temp.data)\n",
    "            temp = temp.next"
   ]
  },
  {
   "cell_type": "code",
   "execution_count": 17,
   "metadata": {},
   "outputs": [],
   "source": [
    "# Start with empty list\n",
    "lst = LinkedList()\n",
    "\n",
    "# Assign head, 2 more nodes (references)\n",
    "lst.head = Node(1)\n",
    "second = Node(2)\n",
    "third = Node(3)\n",
    "\n",
    "# lst.head     second      third\n",
    "#     |           |           |\n",
    "#     |           |           |\n",
    "# +---+------+ +---+------+ +---+------+\n",
    "# | 1 | None | | 2 | None | | 3 | None |\n",
    "# +---+------+ +---+------+ +---+------+\n",
    "\n",
    "\n",
    "# Link first node to the second one\n",
    "lst.head.next = second\n",
    "\n",
    "# lst.head     second      third\n",
    "#     |           |           |\n",
    "#     |           |           |\n",
    "# +---+------+ +---+------+ +---+------+\n",
    "# | 1 | o----> | 2 | null | | 3 | null |\n",
    "# +---+------+ +---+------+ +---+------+\n",
    "\n",
    "\n",
    "# Link the second to the third node\n",
    "second.next = third\n",
    "\n",
    "# lst.head     second      third\n",
    "#     |           |           |\n",
    "#     |           |           |\n",
    "# +---+------+ +---+------+ +---+------+\n",
    "# | 1 | o----> | 2 | o----> | 3 | null |\n",
    "# +---+------+ +---+------+ +---+------+"
   ]
  },
  {
   "cell_type": "code",
   "execution_count": 18,
   "metadata": {},
   "outputs": [
    {
     "name": "stdout",
     "output_type": "stream",
     "text": [
      "1\n",
      "2\n",
      "3\n"
     ]
    }
   ],
   "source": [
    "lst.print_list()"
   ]
  },
  {
   "cell_type": "markdown",
   "metadata": {},
   "source": [
    "* **Stack**:\n",
    "\n",
    "Linear data structure that stores items in a Last-In/First-Out (LIFO) or First-In/Last-Out (FILO) manner. In stack, a new element is added at one end and an element is removed from that end only. The insert and delete operations are often called `push` and `pop`.\n",
    "\n",
    "![](https://media.geeksforgeeks.org/wp-content/cdn-uploads/gq/2013/03/stack.png)\n",
    "\n",
    "In Python, stacks can be implemented using:\n",
    "\n",
    "* list\n",
    "\n",
    "* collections.deque\n",
    "\n",
    "* queue.LifoQueue\n"
   ]
  },
  {
   "cell_type": "code",
   "execution_count": 23,
   "metadata": {},
   "outputs": [
    {
     "name": "stdout",
     "output_type": "stream",
     "text": [
      "Initial stack: ['g', 'f', 'h']\n",
      "Elements popped: h\n",
      "Stack after elements popped: ['g', 'f']\n"
     ]
    }
   ],
   "source": [
    "# Implementation using list\n",
    "stack = []\n",
    "\n",
    "# Use append() to 'push'\n",
    "stack.append('g')\n",
    "stack.append('f')\n",
    "stack.append('h')\n",
    "\n",
    "print('Initial stack:', stack)\n",
    "\n",
    "# Use pop() to delete in LIFO order\n",
    "print('Elements popped:', stack.pop())\n",
    "\n",
    "print('Stack after elements popped:', stack)\n"
   ]
  },
  {
   "cell_type": "code",
   "execution_count": 24,
   "metadata": {},
   "outputs": [
    {
     "name": "stdout",
     "output_type": "stream",
     "text": [
      "Initial stack: deque(['g', 'f', 'h'])\n",
      "Elements popped: h\n",
      "Stack after elements popped: deque(['g', 'f'])\n"
     ]
    }
   ],
   "source": [
    "# Implementation using deque\n",
    "from collections import deque\n",
    "\n",
    "stack = deque()\n",
    "\n",
    "# Use append() to 'push'\n",
    "stack.append('g')\n",
    "stack.append('f')\n",
    "stack.append('h')\n",
    "\n",
    "print('Initial stack:', stack)\n",
    "\n",
    "# Use pop() to delete in LIFO order\n",
    "print('Elements popped:', stack.pop())\n",
    "\n",
    "print('Stack after elements popped:', stack)"
   ]
  },
  {
   "cell_type": "code",
   "execution_count": 25,
   "metadata": {},
   "outputs": [
    {
     "name": "stdout",
     "output_type": "stream",
     "text": [
      "Initial size: 0\n",
      "Is the stack full? True\n",
      "Current size: 3\n",
      "Elements deleted: h\n",
      "Stack after elements popped: ['g', 'f']\n",
      "Is the stack empty? False\n"
     ]
    }
   ],
   "source": [
    "# Implementation using LifoQueue\n",
    "from queue import LifoQueue\n",
    "\n",
    "stack = LifoQueue(maxsize=3)\n",
    "\n",
    "# Show the number of elements\n",
    "print('Initial size:', stack.qsize())\n",
    "\n",
    "# Use put() to `push`\n",
    "stack.put('g')\n",
    "stack.put('f')\n",
    "stack.put('h')\n",
    "\n",
    "print('Is the stack full?', stack.full())\n",
    "print('Current size:', stack.qsize())\n",
    "\n",
    "# Use get() to delete in LIFO order\n",
    "print('Elements deleted:', stack.get())\n",
    "\n",
    "print('Stack after elements popped:', stack.queue)\n",
    "print('Is the stack empty?', stack.empty())"
   ]
  },
  {
   "cell_type": "markdown",
   "metadata": {},
   "source": [
    "* **Queue**:\n",
    "\n",
    "As a stack, a Queue is a linear data structure that stores items in a First-In/First-Out (FIFO) manner. With a queue, the least recently added item is removed first. \n",
    "\n",
    "![](https://media.geeksforgeeks.org/wp-content/cdn-uploads/gq/2014/02/Queue.png)\n",
    "\n",
    "In Python, queues can be implemented using:\n",
    "\n",
    "* list\n",
    "\n",
    "* collections.deque\n",
    "\n",
    "* queue.Queue"
   ]
  },
  {
   "cell_type": "code",
   "execution_count": 26,
   "metadata": {},
   "outputs": [
    {
     "name": "stdout",
     "output_type": "stream",
     "text": [
      "Initial queue: ['g', 'f', 'h']\n",
      "Elements popped: g\n",
      "Queue after elements popped: ['f', 'h']\n"
     ]
    }
   ],
   "source": [
    "# Implementation using list\n",
    "queue = []\n",
    "\n",
    "# Use append() to 'push'\n",
    "queue.append('g')\n",
    "queue.append('f')\n",
    "queue.append('h')\n",
    "\n",
    "print('Initial queue:', queue)\n",
    "\n",
    "# Use pop(0) to delete in FIFO order\n",
    "print('Elements popped:', queue.pop(0))\n",
    "\n",
    "print('Queue after elements popped:', queue)"
   ]
  },
  {
   "cell_type": "code",
   "execution_count": 27,
   "metadata": {},
   "outputs": [
    {
     "name": "stdout",
     "output_type": "stream",
     "text": [
      "Initial queue: deque(['g', 'f', 'h'])\n",
      "Elements popped: g\n",
      "Queue after elements popped: deque(['f', 'h'])\n"
     ]
    }
   ],
   "source": [
    "# Implementation using deque\n",
    "from collections import deque\n",
    "\n",
    "queue = deque()\n",
    "\n",
    "# Use append() to 'push'\n",
    "queue.append('g')\n",
    "queue.append('f')\n",
    "queue.append('h')\n",
    "\n",
    "print('Initial queue:', queue)\n",
    "\n",
    "# Use popleft() to delete in FIFO order\n",
    "print('Elements popped:', queue.popleft())\n",
    "\n",
    "print('Queue after elements popped:', queue)"
   ]
  },
  {
   "cell_type": "code",
   "execution_count": 28,
   "metadata": {},
   "outputs": [
    {
     "name": "stdout",
     "output_type": "stream",
     "text": [
      "Initial size: 0\n",
      "Is the queue full? True\n",
      "Current size: 3\n",
      "Elements deleted: g\n",
      "Queue after elements popped: deque(['f', 'h'])\n",
      "Is the queue empty? False\n"
     ]
    }
   ],
   "source": [
    "# Implementation using Queue (follows FIFO rule)\n",
    "from queue import Queue\n",
    "\n",
    "queue = Queue(maxsize=3)\n",
    "\n",
    "# Show the number of elements\n",
    "print('Initial size:', queue.qsize())\n",
    "\n",
    "# Use put() to `push`\n",
    "queue.put('g')\n",
    "queue.put('f')\n",
    "queue.put('h')\n",
    "\n",
    "print('Is the queue full?', queue.full())\n",
    "print('Current size:', queue.qsize())\n",
    "\n",
    "# Use get() to delete in LIFO order\n",
    "print('Elements deleted:', queue.get())\n",
    "\n",
    "print('Queue after elements popped:', queue.queue)\n",
    "print('Is the queue empty?', queue.empty())"
   ]
  },
  {
   "cell_type": "markdown",
   "metadata": {},
   "source": [
    "* **Heap Queue** (`heapq` module):\n",
    "\n",
    "`heapq` module provides the heap data structure that is mainly used to represent a priority queue. The property of this data structure in Python is that each time **the smallest heap element is popped** (*min-heap*). Whenever elements are pushed or popped, heap structure is maintained.\n",
    "\n",
    "It supports the extraction and insertion of the smallest element in $O(log\\ n)$ times."
   ]
  },
  {
   "cell_type": "code",
   "execution_count": 32,
   "metadata": {},
   "outputs": [
    {
     "name": "stdout",
     "output_type": "stream",
     "text": [
      "The created heap: [1, 3, 9, 7, 5]\n",
      "The modified heap: [1, 3, 4, 7, 5, 9]\n",
      "Element popped (smallest): 1\n",
      "The modified heap: [3, 5, 4, 7, 9]\n"
     ]
    }
   ],
   "source": [
    "import heapq\n",
    "\n",
    "# Initialise list\n",
    "lst = [5, 7, 9, 1, 3]\n",
    "\n",
    "# Use heapify() to convert into `heap`\n",
    "heapq.heapify(lst)\n",
    "\n",
    "print('The created heap:', lst)\n",
    "\n",
    "# Use heappush() to `push` elements \n",
    "heapq.heappush(lst, 4)\n",
    "\n",
    "print('The modified heap:', lst)\n",
    "\n",
    "# Use heappop() to pop the smallest element\n",
    "print('Element popped (smallest):', heapq.heappop(lst))\n",
    "\n",
    "print('The modified heap:', lst)"
   ]
  },
  {
   "cell_type": "markdown",
   "metadata": {},
   "source": [
    "* **Binary Trees**:\n",
    "\n",
    "A tree is a hierarchical data structure that looks like the figure below:"
   ]
  },
  {
   "cell_type": "code",
   "execution_count": 33,
   "metadata": {},
   "outputs": [],
   "source": [
    "#         tree\n",
    "#         ----\n",
    "#         j   <--- root\n",
    "#       /   \\\n",
    "#      f     k\n",
    "#    /   \\     \\\n",
    "#   a     h     z     <--- leaves"
   ]
  },
  {
   "cell_type": "markdown",
   "metadata": {},
   "source": [
    "The topmost node of the tree is called the *root* whereas the bottommost nodes with no children are called the *leaf* nodes. The nodes that are directly under a node are called its *children* and the nodes that are directly above are called its *parents*."
   ]
  },
  {
   "cell_type": "code",
   "execution_count": null,
   "metadata": {},
   "outputs": [],
   "source": []
  }
 ],
 "metadata": {
  "kernelspec": {
   "display_name": "Python 3",
   "language": "python",
   "name": "python3"
  },
  "language_info": {
   "codemirror_mode": {
    "name": "ipython",
    "version": 3
   },
   "file_extension": ".py",
   "mimetype": "text/x-python",
   "name": "python",
   "nbconvert_exporter": "python",
   "pygments_lexer": "ipython3",
   "version": "3.10.0"
  }
 },
 "nbformat": 4,
 "nbformat_minor": 2
}
