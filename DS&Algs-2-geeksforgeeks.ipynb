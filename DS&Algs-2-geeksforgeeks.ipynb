{
 "cells": [
  {
   "cell_type": "markdown",
   "metadata": {},
   "source": [
    "## Data Structures & Searching Algorithms from `geeksforgeeks.org`\n",
    "\n",
    "Check webpages:\n",
    "\n",
    "* Data Structures: https://www.geeksforgeeks.org/python-data-structures/\n",
    "\n",
    "* Searching Algorithms: https://www.geeksforgeeks.org/searching-algorithms/?ref=lbp"
   ]
  },
  {
   "cell_type": "markdown",
   "metadata": {},
   "source": [
    "### Searching\n",
    "\n",
    "Searching is the process of locating a specific element or item within a collection of data. This collection of data can take various forms, such as arrays, lists, trees or other structured representations. \n",
    "\n",
    "The primary objective of searching is to determine whether the desired element exists within the data, and if so, to identify its precise location or retrieve it."
   ]
  },
  {
   "cell_type": "markdown",
   "metadata": {},
   "source": [
    "#### Linear Search\n",
    "\n",
    "Linear search is defined as a *sequential* search algorithm that starts at one end and goes through each element of a list until the desired element is found, otherwise the search continues until the end of the data set.\n",
    "\n",
    "![](https://media.geeksforgeeks.org/wp-content/cdn-uploads/Linear-Search.png)\n",
    "\n",
    "**Time Complexity**:\n",
    "\n",
    "* Best case: $O(1)$ if element is at the first index.\n",
    "\n",
    "* Worst case: $O(N)$ if element is at the last index.\n",
    "\n",
    "* Average case: $O(N)$"
   ]
  },
  {
   "cell_type": "code",
   "execution_count": 1,
   "metadata": {},
   "outputs": [],
   "source": [
    "# Linear search\n",
    "def linear_search(arr, N, x):\n",
    "\n",
    "    for i in range(N):\n",
    "\n",
    "        if arr[i] == x:\n",
    "            return i\n",
    "        \n",
    "    return -1"
   ]
  },
  {
   "cell_type": "code",
   "execution_count": 2,
   "metadata": {},
   "outputs": [
    {
     "name": "stdout",
     "output_type": "stream",
     "text": [
      "Element is present at index 3\n"
     ]
    }
   ],
   "source": [
    "# Example\n",
    "arr = [2, 3, 4, 10, 40]\n",
    "x = 10\n",
    "N = len(arr)\n",
    "\n",
    "result = linear_search(arr, N, x)\n",
    "\n",
    "if result == -1:\n",
    "    print('Element is not present in array')\n",
    "else:\n",
    "    print(f'Element is present at index {result}')"
   ]
  },
  {
   "cell_type": "markdown",
   "metadata": {},
   "source": [
    "#### Binary Search\n",
    "\n",
    "Binary search is defined as searching algorithm used in a *sorted array* by **repeatedly dividing the search interval in half**. The idea of binary search is to use the information that the array is sorted and reduce the time complexity to $O(log\\ N)$.\n",
    "\n",
    "![](https://media.geeksforgeeks.org/wp-content/uploads/20220309171621/BinarySearch.png)\n",
    "\n",
    "* **Conditions**:\n",
    "\n",
    "    * The data structure must be sorted\n",
    "\n",
    "    * Access to any element of the data structure takes constant time\n",
    "\n",
    "* **Algorithm**:\n",
    "\n",
    "    * Divide the search space into two halves by *finding the middle index*:\n",
    "\n",
    "        $$\n",
    "        \\text{middle index} = \\text{low} + \\frac{(\\text{high} - \\text{low})}{2}\n",
    "        $$\n",
    "\n",
    "    * If the key is found at the middle element, then finish.\n",
    "\n",
    "    * If the key is smaller than the middle element, then use the left side for next search\n",
    "\n",
    "    * If the key is larger than the middle element, then use the right side for next search\n",
    "\n",
    "    * This process continues until the key is found or the total search space is exhausted\n",
    "\n",
    "* **Implementation**:\n",
    "\n",
    "    * Iterative\n",
    "\n",
    "    * Recursive"
   ]
  },
  {
   "cell_type": "markdown",
   "metadata": {},
   "source": [
    "* **Iterative Binary Search**:\n",
    "\n",
    "    - **Time Complexity**: $O(log\\ N)$\n",
    "\n",
    "    - **Auxiliary Space**: $O(1)$"
   ]
  },
  {
   "cell_type": "code",
   "execution_count": 7,
   "metadata": {},
   "outputs": [],
   "source": [
    "# Iterative Binary Search\n",
    "def iter_binary_search(arr, low, high, x):\n",
    "\n",
    "    while low <= high:\n",
    "\n",
    "        # Find middle index\n",
    "        mid = low + (high - low)//2\n",
    "\n",
    "        # Check if x is at mid\n",
    "        if arr[mid] == x:\n",
    "            \n",
    "            return mid\n",
    "        \n",
    "        elif arr[mid] < x: # if x is greater\n",
    "            \n",
    "            low = mid + 1\n",
    "\n",
    "        else: \n",
    "            high = mid - 1 # if x is smaller\n",
    "\n",
    "    return -1"
   ]
  },
  {
   "cell_type": "code",
   "execution_count": 10,
   "metadata": {},
   "outputs": [
    {
     "name": "stdout",
     "output_type": "stream",
     "text": [
      "Element is present at index 3\n"
     ]
    }
   ],
   "source": [
    "# Example\n",
    "arr = [2, 3, 4, 10, 40]\n",
    "x = 10\n",
    "\n",
    "result = iter_binary_search(arr, 0, len(arr)-1, x)\n",
    "\n",
    "if result != -1:\n",
    "    print('Element is present at index', result)\n",
    "else:\n",
    "    print('Element is not in array')"
   ]
  },
  {
   "cell_type": "markdown",
   "metadata": {},
   "source": [
    "* **Recursive Binary Search**:\n",
    "\n",
    "    - **Time Complexity**:\n",
    "\n",
    "        * Best case: $O(1)$\n",
    "\n",
    "        * Average case: $O(log\\ N)$\n",
    "\n",
    "        * Worst case: $O(log\\ N)$\n",
    "\n",
    "    - **Auxiliary Space**: $O(1)$. If the recursive call stack is considered, then the auxiliary space will be $O(log\\ N)$"
   ]
  },
  {
   "cell_type": "code",
   "execution_count": 9,
   "metadata": {},
   "outputs": [],
   "source": [
    "# Recursive Binary Search\n",
    "def recurs_binary_search(arr, low, high, x):\n",
    "\n",
    "    # Check base case:\n",
    "    if high >= low:\n",
    "\n",
    "        mid = low + (high - low)//2\n",
    "\n",
    "        # Check if x is at the mid\n",
    "        if arr[mid] == x:\n",
    "            \n",
    "            return mid\n",
    "        \n",
    "        elif arr[mid] > x: # if x is greater\n",
    "\n",
    "            return recurs_binary_search(arr, low, mid-1, x)\n",
    "        \n",
    "        else: # if x is smaller\n",
    "\n",
    "            return recurs_binary_search(arr, mid+1, high, x)\n",
    "    \n",
    "    else:\n",
    "        return -1"
   ]
  },
  {
   "cell_type": "code",
   "execution_count": 11,
   "metadata": {},
   "outputs": [
    {
     "name": "stdout",
     "output_type": "stream",
     "text": [
      "Element is at index 3\n"
     ]
    }
   ],
   "source": [
    "# Example\n",
    "arr = [2, 3, 4, 10, 40]\n",
    "x = 10\n",
    "\n",
    "result = recurs_binary_search(arr, 0, len(arr)-1, x)\n",
    "\n",
    "if result != -1:\n",
    "    print('Element is at index', result)\n",
    "else:\n",
    "    print('Element is not in array')"
   ]
  },
  {
   "cell_type": "markdown",
   "metadata": {},
   "source": [
    "### Sorting\n",
    "\n",
    "Sorting refers to rearrange an array or list of elements according to a comparison operator on the elements. The comparison operator is used to decide the new order of elements in the respective data structure. Sorting means **reordering** of all the elements either in ascending or in descending order.\n",
    "\n",
    "* *In-place Sorting*: An in-place sorting algorithm **uses constant space** for producing the output (modifies the given array only). It sorts the list only by modifying the order of the elements within the list\n",
    "\n",
    "* *Internal Sorting*: Internal sorting is when all **the data is placed in the main memory or internal memory**. In internal sorting, the problem cannot take input beyond its size.\n",
    "\n",
    "* *External Sorting*: External sorting is when all **the data that needs to be sorted cannot be placed in memory at a time**. External sorting is ued for the massive amount of data.\n",
    "\n",
    "* *Stability*: A sorting algorithm is said to be stable if the relative order of equal elements is preserved after sorting. This is important in certain applications where the original order of equal elements must be maintained.\n",
    "\n",
    "**Types of sorting algorithms**:\n",
    "\n",
    "The following two types of sorting algorithms can be broadly classified:\n",
    "\n",
    "* Comparison-based\n",
    "\n",
    "* Non-comparison-based\n",
    "\n",
    "![](https://media.geeksforgeeks.org/wp-content/uploads/20220916131621/SortingTYPE.png)\n",
    "\n",
    "**Comparison of complexity analysis**:\n",
    "\n",
    "| Name               | Best case | Average case | Worst case | Memory   | Stable | Method used  |\n",
    "|--------------------|-----------|--------------|------------|----------|--------|--------------|\n",
    "| Quick sort         | $nlog\\ n$ | $nlog\\ n$    | $n^2$      | $log\\ n$ | No     | Partitioning |\n",
    "| Merge sort         | $nlog\\ n$ | $nlog\\ n$    | $nlog\\ n$  | $n$      | Yes    | Merging      |\n",
    "| Heap sort          | $nlog\\ n$ | $nlog\\ n$    | $nlog\\ n$  | $1$      | No     | Selection    |\n",
    "| Insertion sort     | $n$       | $n^2$        | $n^2$      | $1$      | Yes    | Insertion    |\n",
    "| Selection sort     | $n^2$     | $n^2$        | $n^2$      | $1$      | No     | Selection    |\n",
    "| Bubble sort        | $n$       | $n^2$        | $n^2$      | $1$      | Yes    | Exchanging   |\n"
   ]
  },
  {
   "cell_type": "markdown",
   "metadata": {},
   "source": [
    "#### QuickSort\n",
    "\n",
    "QuickSort is a sorting algorithm based on the *Divide and Conquer* algorithm that picks an element as a pivot and partitions the given array around the picked pivot by placing the pivot in its correct position in the sorted array.\n",
    "\n",
    "![](https://www.geeksforgeeks.org/wp-content/uploads/gq/2014/01/QuickSort2.png)\n",
    "\n",
    "QuickSort uses partitions to place the pivot at its correct position in the sorted array and put all smaller elements to the left of the pivot, and all greater elements to the right of the pivot.\n",
    "\n",
    "**Choice of Pivot**:\n",
    "\n",
    "* Always pick the first element as a pivot\n",
    "\n",
    "* Always pick the last element as a pivot\n",
    "\n",
    "* Pick a random element as a pivot\n",
    "\n",
    "* Pick the middle element as a pivot\n",
    "\n",
    "**Partition algorithm**:\n",
    "\n",
    "* Start from the leftmost element and keep track of the index of smaller or equal elements as $i$.\n",
    "\n",
    "* While traversing, if we find a smaller element, we swap the current element with `arr[i]`. Otherwise, we ignore the current element."
   ]
  },
  {
   "cell_type": "code",
   "execution_count": 1,
   "metadata": {},
   "outputs": [],
   "source": [
    "# Partition the array\n",
    "def partition(arr, low, high):\n",
    "\n",
    "    # Choose the rightmost element as pivot\n",
    "    pivot = arr[high]\n",
    "\n",
    "    # Pointer for greater element\n",
    "    i = low - 1\n",
    "\n",
    "    # Traverse the array and compare with pivot\n",
    "    for j in range(low, high):\n",
    "        \n",
    "        # If element is smaller\n",
    "        if arr[j] <= pivot:\n",
    "            i += 1\n",
    "\n",
    "            # Swap\n",
    "            arr[i], arr[j] = arr[j], arr[i]\n",
    "\n",
    "    # Swap pivot with greater element in i\n",
    "    arr[i+1], arr[high] = arr[high], arr[i+1]\n",
    "\n",
    "    return i + 1"
   ]
  },
  {
   "cell_type": "code",
   "execution_count": 3,
   "metadata": {},
   "outputs": [],
   "source": [
    "# QuickSort\n",
    "def quick_sort(arr, low, high):\n",
    "\n",
    "    if low < high:\n",
    "        \n",
    "        # Find pivot index\n",
    "        pivot_ind = partition(arr, low, high)\n",
    "\n",
    "        # Recursive call on left part of pivot\n",
    "        quick_sort(arr, low, pivot_ind - 1)\n",
    "\n",
    "        # Recursive call on right part of pivot\n",
    "        quick_sort(arr, pivot_ind + 1, high)\n"
   ]
  },
  {
   "cell_type": "code",
   "execution_count": 5,
   "metadata": {},
   "outputs": [
    {
     "name": "stdout",
     "output_type": "stream",
     "text": [
      "Sorted array: [1, 5, 7, 8, 9, 10]\n"
     ]
    }
   ],
   "source": [
    "# Example\n",
    "array = [10, 7, 8, 9, 1, 5]\n",
    "n = len(array)\n",
    "\n",
    "quick_sort(array, 0, n - 1)\n",
    "\n",
    "print('Sorted array:', array)"
   ]
  },
  {
   "cell_type": "markdown",
   "metadata": {},
   "source": [
    "#### MergeSort\n",
    "\n",
    "MergeSort is a sorting algorithm that follows the *Divide and Conquer* approach. It works by recursively dividing the input array into smaller subarrays and sorting those subarrays then merging them back together to obtained the final sorted array.\n",
    "\n",
    "![](https://media.geeksforgeeks.org/wp-content/uploads/20230706153706/Merge-Sort-Algorithm-(1).png)\n",
    "\n",
    "**Algorithm**:\n",
    "\n",
    "* Divide the list/array recursively into two halves until it cannot be divided more\n",
    "\n",
    "* Sort each subarray individually using the merge-sort algorithm\n",
    "\n",
    "* Merge back together the sorted arrays in sorted order. The process continues until all elements from both subarrays have been merged."
   ]
  },
  {
   "cell_type": "code",
   "execution_count": 6,
   "metadata": {},
   "outputs": [],
   "source": [
    "# Merge two arrays\n",
    "def merge(arr1, arr2):\n",
    "\n",
    "    # Initialise\n",
    "    i = 0\n",
    "    j = 0\n",
    "    result = []\n",
    "\n",
    "    while i < len(arr1) and j < len(arr2):\n",
    "\n",
    "        if arr2[j] < arr1[i]:\n",
    "\n",
    "            result.append(arr1[i])\n",
    "            i += 1\n",
    "        else:\n",
    "            result.append(arr2[j])\n",
    "            j += 1\n",
    "    \n",
    "    while i < len(arr1):\n",
    "\n",
    "        result.append(arr1[i])\n",
    "        i += 1\n",
    "\n",
    "    while j < len(arr2):\n",
    "        result.append(arr2[j])\n",
    "        j += 1\n",
    "\n",
    "    return result"
   ]
  },
  {
   "cell_type": "code",
   "execution_count": 7,
   "metadata": {},
   "outputs": [],
   "source": [
    "# MergeSort\n",
    "def merge_sort(arr):\n",
    "\n",
    "    if len(arr) <= 1:\n",
    "        return arr\n",
    "\n",
    "    mid = len(arr)//2\n",
    "    left = merge_sort(arr[:mid])\n",
    "    right = merge_sort(arr[mid:])\n",
    "\n",
    "    return merge(left, right)"
   ]
  },
  {
   "cell_type": "code",
   "execution_count": 10,
   "metadata": {},
   "outputs": [
    {
     "name": "stdout",
     "output_type": "stream",
     "text": [
      "Sorted array: [13, 12, 11, 7, 6, 5]\n"
     ]
    }
   ],
   "source": [
    "# Example\n",
    "arr = [12, 11, 13, 5, 6, 7]\n",
    "\n",
    "sorted_arr = merge_sort(arr)\n",
    "\n",
    "print('Sorted array:', sorted_arr)"
   ]
  },
  {
   "cell_type": "markdown",
   "metadata": {},
   "source": [
    "### Exercises\n",
    "\n",
    "#### Find the missing and repeating number\n",
    "\n",
    "Given an unsorted array of size $n$. Array elements are in the range of 1 to $n$. One number from set $\\{1, 2, \\dots, n\\}$ is missing and one number occurs twice in the array. Find these two numbers:"
   ]
  },
  {
   "cell_type": "markdown",
   "metadata": {},
   "source": [
    "**Approach #1**: Use count array\n",
    "\n",
    "1. Create a temp array `temp[]` of size $n$ with all initial values as 0\n",
    "\n",
    "2. Traverse the input array `arr[]`, and do the following for each `arr[i]`\n",
    "\n",
    "    * if `temp[arr[i]-1] == 0`, set it to 1\n",
    "\n",
    "    * if `== 1`, the number is repeating and output `arr[i]`\n",
    "\n",
    "3. Traverse `temp[]` and output `i + 1` when element in array is 0, which is the missing number.\n",
    "\n",
    "**Time Complexity**: $O(n)$\n",
    "\n",
    "**Auxiliary Space**: $O(n)$"
   ]
  },
  {
   "cell_type": "code",
   "execution_count": 12,
   "metadata": {},
   "outputs": [],
   "source": [
    "def find_two_elems(arr):\n",
    "\n",
    "    n = len(arr)\n",
    "    temp = [0] * n\n",
    "    repeated_num = -1\n",
    "    missing_num = -1\n",
    "\n",
    "    for i in range(n):\n",
    "        temp[arr[i]-1] += 1\n",
    "\n",
    "        if temp[arr[i]-1] > 1:\n",
    "            repeated_num = arr[i]\n",
    "\n",
    "    for i in range(n):\n",
    "        if temp[i] == 0:\n",
    "            missing_num = i + 1\n",
    "            break\n",
    "\n",
    "    print('The repeated number is:', repeated_num)\n",
    "    print('The missing number is:', missing_num)"
   ]
  },
  {
   "cell_type": "code",
   "execution_count": 13,
   "metadata": {},
   "outputs": [
    {
     "name": "stdout",
     "output_type": "stream",
     "text": [
      "The repeated number is: 5\n",
      "The missing number is: 1\n"
     ]
    }
   ],
   "source": [
    "# Example\n",
    "arr = [7, 3, 4, 5, 5, 6, 2]\n",
    "find_two_elems(arr)"
   ]
  },
  {
   "cell_type": "markdown",
   "metadata": {},
   "source": [
    "**Approach #2**: Use elements as index and mark visited ones\n",
    "\n",
    "1. Traverse the array and use the absolute value of every element as an index\n",
    "\n",
    "2. Make the value at this index negative to mark it visited\n",
    "\n",
    "    * If an element is negative, then this is the repeated element\n",
    "\n",
    "    * If there's a positive value when traversing the array again, this is the missing element\n",
    "\n",
    "**Time Complexity**: $O(n)$\n",
    "\n",
    "**Auxiliary Space**: $O(1)$"
   ]
  },
  {
   "cell_type": "code",
   "execution_count": 14,
   "metadata": {},
   "outputs": [],
   "source": [
    "def find_two_elems_marking(arr, size):\n",
    "\n",
    "    for i in range(size):\n",
    "        if arr[abs(arr[i])-1] > 0:\n",
    "            arr[abs(arr[i])-1] = - arr[abs(arr[i])-1]\n",
    "        else:\n",
    "            print('The repeated number is:', abs(arr[i]))\n",
    "    \n",
    "    for i in range(size):\n",
    "        if arr[i] > 0:\n",
    "            print('The missing element is:', i + 1)\n",
    "\n",
    "    print(arr)"
   ]
  },
  {
   "cell_type": "code",
   "execution_count": 16,
   "metadata": {},
   "outputs": [
    {
     "name": "stdout",
     "output_type": "stream",
     "text": [
      "The repeated number is: 5\n",
      "The missing element is: 1\n",
      "[7, -3, -4, -5, -5, -6, -2]\n"
     ]
    }
   ],
   "source": [
    "# Example\n",
    "arr = [7, 3, 4, 5, 5, 6, 2]\n",
    "n = len(arr)\n",
    "find_two_elems_marking(arr, n)"
   ]
  },
  {
   "cell_type": "markdown",
   "metadata": {},
   "source": [
    "#### Two elements whose sum is closest to zero\n",
    "\n",
    "An array of integers is given (both negative and positive). You need to find the two elements such that their sum is closest to zero.\n",
    "\n",
    "* **Method #1**: Simple\n",
    "\n",
    "For each element, find the sum of it with every other element in the array and compare sums. Finally, return the minimum sum.\n",
    "\n",
    "**Time Complexity**: $O(n^2)$\n",
    "\n",
    "**Auxiliary Space**: $O(1)$"
   ]
  },
  {
   "cell_type": "code",
   "execution_count": 19,
   "metadata": {},
   "outputs": [],
   "source": [
    "def min_sum_pairs(arr, size):\n",
    "\n",
    "    # Initialise values\n",
    "    ind_1 = 0\n",
    "    ind_2 = 1\n",
    "    min_sum = arr[0] + arr[1]\n",
    "\n",
    "    for ind_1 in range(size-1):\n",
    "        for ind_2 in range(ind_1+1, size):\n",
    "\n",
    "            temp_sum = arr[ind_1] + arr[ind_2]\n",
    "\n",
    "            if abs(min_sum) > abs(temp_sum):\n",
    "                min_sum = temp_sum\n",
    "                ind_1 = ind_1\n",
    "                ind_2 = ind_2\n",
    "        \n",
    "    print('The two elements whose sum is closest to zero are:')\n",
    "    print(arr[ind_1], 'and', arr[ind_2])\n",
    "    print('The sum is:', arr[ind_1] + arr[ind_2])\n"
   ]
  },
  {
   "cell_type": "code",
   "execution_count": 20,
   "metadata": {},
   "outputs": [
    {
     "name": "stdout",
     "output_type": "stream",
     "text": [
      "The two elements whose sum is closest to zero are:\n",
      "-80 and 85\n",
      "The sum is: 5\n"
     ]
    }
   ],
   "source": [
    "# Example\n",
    "arr = [1, 60, -10, 70, -80, 85]\n",
    "\n",
    "min_sum_pairs(arr, len(arr))"
   ]
  },
  {
   "cell_type": "markdown",
   "metadata": {},
   "source": [
    "* **Method #2**: Use sorting\n",
    "\n",
    "1. Sort all the elements in the input array\n",
    "\n",
    "2. Traverse the array from left and right ends using two index variables: left = $0$ and right = $n - 1$\n",
    "\n",
    "3. `sum = arr[left] + arr[right]`\n",
    "\n",
    "    * If sum is negative, then increase left\n",
    "\n",
    "    * If sum is positive, then reduce right\n",
    "\n",
    "    * Keep track of the absolute min sum\n",
    "\n",
    "7. Repeat step 3 while left < right\n",
    "\n",
    "**Time Complexity**: \n",
    "\n",
    "* Sorting: $O(nlog\\ n)$ \n",
    "\n",
    "* Finding optimum pair: $O(n)$\n",
    "\n",
    "* Total: $O(nlog\\ n)$\n",
    "\n",
    "**Auxiliary Space**: $O(1)$"
   ]
  },
  {
   "cell_type": "code",
   "execution_count": 24,
   "metadata": {},
   "outputs": [],
   "source": [
    "# Partition for sorting\n",
    "def partition(arr, start_ind, end_ind):\n",
    "\n",
    "    x = arr[end_ind]\n",
    "    i = start_ind - 1\n",
    "\n",
    "    for j in range(start_ind, end_ind):\n",
    "\n",
    "        if arr[j] <= x:\n",
    "            i += 1\n",
    "            arr[i], arr[j] = arr[j], arr[i]\n",
    "\n",
    "    arr[i+1], arr[end_ind] = arr[end_ind], arr[i+1]\n",
    "\n",
    "    return i + 1\n",
    "\n",
    "# Apply quick sort algorithm\n",
    "def quick_sort(arr, start_ind, end_ind):\n",
    "\n",
    "    # Initialise partition index\n",
    "    part_ind = 0\n",
    "\n",
    "    if start_ind < end_ind:\n",
    "\n",
    "        part_ind = partition(arr, start_ind, end_ind)\n",
    "        quick_sort(arr, start_ind, part_ind-1)\n",
    "        quick_sort(arr, part_ind+1, end_ind)\n",
    "\n",
    "# Find minimum sum\n",
    "def min_sum_sorting(arr, size):\n",
    "\n",
    "    # Initialise\n",
    "    temp_sum, min_sum = 0, 10**9\n",
    "\n",
    "    left = 0\n",
    "    right = size - 1\n",
    "\n",
    "    # Keep track of min left and min right\n",
    "    min_left = left\n",
    "    min_right = size - 1\n",
    "\n",
    "    # Sort array\n",
    "    quick_sort(arr, left, right)\n",
    "\n",
    "    while left < right:\n",
    "\n",
    "        temp_sum = arr[left] + arr[right]\n",
    "\n",
    "        # Check if abs sum is < min_sum\n",
    "        if abs(temp_sum) < abs(min_sum):\n",
    "            min_sum = temp_sum\n",
    "            min_left = left\n",
    "            min_right = right\n",
    "        \n",
    "        # Update indexes accordingly\n",
    "        if temp_sum < 0:\n",
    "            left += 1\n",
    "        else:\n",
    "            right -= 1\n",
    "\n",
    "    print('The two elements whose sum is closest to zero are:')\n",
    "    print(arr[min_left], 'and', arr[min_right])\n",
    "    print('The sum is:', arr[min_left] + arr[min_right])"
   ]
  },
  {
   "cell_type": "code",
   "execution_count": 25,
   "metadata": {},
   "outputs": [
    {
     "name": "stdout",
     "output_type": "stream",
     "text": [
      "The two elements whose sum is closest to zero are:\n",
      "-80 and 85\n",
      "The sum is: 5\n"
     ]
    }
   ],
   "source": [
    "# Example\n",
    "arr = [1, 60, -10, 70, -80, 85]\n",
    "n = len(arr)\n",
    "\n",
    "min_sum_sorting(arr, n)"
   ]
  }
 ],
 "metadata": {
  "kernelspec": {
   "display_name": "Python 3",
   "language": "python",
   "name": "python3"
  },
  "language_info": {
   "codemirror_mode": {
    "name": "ipython",
    "version": 3
   },
   "file_extension": ".py",
   "mimetype": "text/x-python",
   "name": "python",
   "nbconvert_exporter": "python",
   "pygments_lexer": "ipython3",
   "version": "3.10.0"
  }
 },
 "nbformat": 4,
 "nbformat_minor": 2
}
